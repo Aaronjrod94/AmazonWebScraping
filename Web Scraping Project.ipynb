{
 "cells": [
  {
   "cell_type": "markdown",
   "id": "e8bbf61b",
   "metadata": {},
   "source": [
    "## Web Scraping Project\n",
    "\n",
    "In this project I will be gathering data on gaming laptops from Amazon."
   ]
  },
  {
   "cell_type": "code",
   "execution_count": 139,
   "id": "a6177fe9",
   "metadata": {},
   "outputs": [],
   "source": [
    "# Importing libraries\n",
    "import pandas as pd\n",
    "import numpy as np\n",
    "from bs4 import BeautifulSoup\n",
    "import requests\n",
    "from selenium import webdriver\n",
    "import csv"
   ]
  },
  {
   "cell_type": "markdown",
   "id": "039b5c92",
   "metadata": {},
   "source": [
    "## Starting the webdriver\n",
    "I will be utilizing the chrome browser to scrape the data."
   ]
  },
  {
   "cell_type": "code",
   "execution_count": 64,
   "id": "b77f6a8c",
   "metadata": {},
   "outputs": [],
   "source": [
    "driver = webdriver.Chrome()"
   ]
  },
  {
   "cell_type": "code",
   "execution_count": 65,
   "id": "92d22006",
   "metadata": {},
   "outputs": [],
   "source": [
    "url = 'https://www.amazon.com'\n",
    "driver.get(url)"
   ]
  },
  {
   "cell_type": "code",
   "execution_count": 60,
   "id": "1391e913",
   "metadata": {},
   "outputs": [],
   "source": [
    "def get_url(search_text):\n",
    "    \"\"\"Generate a url from search term\"\"\"\n",
    "    template = 'https://www.amazon.com/s?k={}&ref=nb_sb_noss_1'\n",
    "    search_term = search_text.replace(' ', '+')\n",
    "    return template.format(search_term)"
   ]
  },
  {
   "cell_type": "code",
   "execution_count": 66,
   "id": "e1f48aa2",
   "metadata": {},
   "outputs": [
    {
     "name": "stdout",
     "output_type": "stream",
     "text": [
      "https://www.amazon.com/s?k=gaming+laptop&ref=nb_sb_noss_1\n"
     ]
    }
   ],
   "source": [
    "# Adding 'gaming laptop' to the url\n",
    "url = get_url('gaming laptop')\n",
    "print(url)"
   ]
  },
  {
   "cell_type": "code",
   "execution_count": 67,
   "id": "d0f0f022",
   "metadata": {},
   "outputs": [],
   "source": [
    "driver.get(url)"
   ]
  },
  {
   "cell_type": "markdown",
   "id": "36eac239",
   "metadata": {},
   "source": [
    "## Extracting Collection\n",
    "Gathering the number of items that are listed on the first page."
   ]
  },
  {
   "cell_type": "code",
   "execution_count": 68,
   "id": "42b6374d",
   "metadata": {},
   "outputs": [],
   "source": [
    "soup = BeautifulSoup(driver.page_source,'html.parser')"
   ]
  },
  {
   "cell_type": "code",
   "execution_count": 69,
   "id": "bbe77132",
   "metadata": {},
   "outputs": [],
   "source": [
    "results = soup.find_all('div', {'data-component-type': 's-search-result'})"
   ]
  },
  {
   "cell_type": "code",
   "execution_count": 70,
   "id": "1b93fd96",
   "metadata": {},
   "outputs": [
    {
     "data": {
      "text/plain": [
       "22"
      ]
     },
     "execution_count": 70,
     "metadata": {},
     "output_type": "execute_result"
    }
   ],
   "source": [
    "len(results)"
   ]
  },
  {
   "cell_type": "markdown",
   "id": "4282bd93",
   "metadata": {},
   "source": [
    "## Prototype the record"
   ]
  },
  {
   "cell_type": "markdown",
   "id": "2837be94",
   "metadata": {},
   "source": [
    "Selecting the data to be extracted from Amazon"
   ]
  },
  {
   "cell_type": "code",
   "execution_count": 71,
   "id": "44030426",
   "metadata": {},
   "outputs": [],
   "source": [
    "item = results[0]"
   ]
  },
  {
   "cell_type": "code",
   "execution_count": 72,
   "id": "0851fa27",
   "metadata": {},
   "outputs": [],
   "source": [
    "atag = item.h2.a"
   ]
  },
  {
   "cell_type": "code",
   "execution_count": 73,
   "id": "9b71fcc9",
   "metadata": {},
   "outputs": [],
   "source": [
    "description = atag.text.strip()"
   ]
  },
  {
   "cell_type": "code",
   "execution_count": 74,
   "id": "afe32f33",
   "metadata": {},
   "outputs": [],
   "source": [
    "url = 'https://www.amazon.com' + atag.get('href')"
   ]
  },
  {
   "cell_type": "code",
   "execution_count": 75,
   "id": "41892f2b",
   "metadata": {},
   "outputs": [],
   "source": [
    "price_parent = item.find('span', 'a-price')"
   ]
  },
  {
   "cell_type": "code",
   "execution_count": 76,
   "id": "f61890ef",
   "metadata": {},
   "outputs": [],
   "source": [
    "price = price_parent.find('span', 'a-offscreen').text"
   ]
  },
  {
   "cell_type": "code",
   "execution_count": 77,
   "id": "d4506017",
   "metadata": {},
   "outputs": [],
   "source": [
    "rating = item.i.text"
   ]
  },
  {
   "cell_type": "code",
   "execution_count": 78,
   "id": "03d832b7",
   "metadata": {},
   "outputs": [],
   "source": [
    "review_count = item.find('span', {'class': 'a-size-base s-underline-text'}).text"
   ]
  },
  {
   "cell_type": "markdown",
   "id": "6967687e",
   "metadata": {},
   "source": [
    "## Generalize the pattern"
   ]
  },
  {
   "cell_type": "markdown",
   "id": "955a07ab",
   "metadata": {},
   "source": [
    "Creating a pattern to grab the same data from the next item"
   ]
  },
  {
   "cell_type": "code",
   "execution_count": 79,
   "id": "030a89ad",
   "metadata": {},
   "outputs": [],
   "source": [
    "def extract_record(item):\n",
    "    \"\"\"Extract and return data from a single record\"\"\"\n",
    "    \n",
    "    #description and url\n",
    "    atag = item.h2.a\n",
    "    description = atag.text.strip()\n",
    "    url = 'https://www.amazon.com' + atag.get('href')\n",
    "    \n",
    "    \n",
    "    # Price\n",
    "    price_parent = item.find('span', 'a-price')\n",
    "    price = price_parent.find('span', 'a-offscreen').text\n",
    "    \n",
    "    # Rating and Review count\n",
    "    rating = item.i.text\n",
    "    review_count = item.find('span', {'class': 'a-size-base s-underline-text'}).text\n",
    "    \n",
    "    result = (description, price, rating, review_count, url)\n",
    "    \n",
    "    return result"
   ]
  },
  {
   "cell_type": "code",
   "execution_count": 80,
   "id": "dfc947cc",
   "metadata": {},
   "outputs": [
    {
     "ename": "AttributeError",
     "evalue": "'NoneType' object has no attribute 'text'",
     "output_type": "error",
     "traceback": [
      "\u001b[1;31m---------------------------------------------------------------------------\u001b[0m",
      "\u001b[1;31mAttributeError\u001b[0m                            Traceback (most recent call last)",
      "\u001b[1;32m~\\AppData\\Local\\Temp/ipykernel_18892/1670264900.py\u001b[0m in \u001b[0;36m<module>\u001b[1;34m\u001b[0m\n\u001b[0;32m      3\u001b[0m \u001b[1;33m\u001b[0m\u001b[0m\n\u001b[0;32m      4\u001b[0m \u001b[1;32mfor\u001b[0m \u001b[0mitem\u001b[0m \u001b[1;32min\u001b[0m \u001b[0mresults\u001b[0m\u001b[1;33m:\u001b[0m\u001b[1;33m\u001b[0m\u001b[1;33m\u001b[0m\u001b[0m\n\u001b[1;32m----> 5\u001b[1;33m     \u001b[0mrecords\u001b[0m\u001b[1;33m.\u001b[0m\u001b[0mappend\u001b[0m\u001b[1;33m(\u001b[0m\u001b[0mextract_record\u001b[0m\u001b[1;33m(\u001b[0m\u001b[0mitem\u001b[0m\u001b[1;33m)\u001b[0m\u001b[1;33m)\u001b[0m\u001b[1;33m\u001b[0m\u001b[1;33m\u001b[0m\u001b[0m\n\u001b[0m",
      "\u001b[1;32m~\\AppData\\Local\\Temp/ipykernel_18892/3540489095.py\u001b[0m in \u001b[0;36mextract_record\u001b[1;34m(item)\u001b[0m\n\u001b[0;32m     13\u001b[0m \u001b[1;33m\u001b[0m\u001b[0m\n\u001b[0;32m     14\u001b[0m     \u001b[1;31m# Rating and Review count\u001b[0m\u001b[1;33m\u001b[0m\u001b[1;33m\u001b[0m\u001b[0m\n\u001b[1;32m---> 15\u001b[1;33m     \u001b[0mrating\u001b[0m \u001b[1;33m=\u001b[0m \u001b[0mitem\u001b[0m\u001b[1;33m.\u001b[0m\u001b[0mi\u001b[0m\u001b[1;33m.\u001b[0m\u001b[0mtext\u001b[0m\u001b[1;33m\u001b[0m\u001b[1;33m\u001b[0m\u001b[0m\n\u001b[0m\u001b[0;32m     16\u001b[0m     \u001b[0mreview_count\u001b[0m \u001b[1;33m=\u001b[0m \u001b[0mitem\u001b[0m\u001b[1;33m.\u001b[0m\u001b[0mfind\u001b[0m\u001b[1;33m(\u001b[0m\u001b[1;34m'span'\u001b[0m\u001b[1;33m,\u001b[0m \u001b[1;33m{\u001b[0m\u001b[1;34m'class'\u001b[0m\u001b[1;33m:\u001b[0m \u001b[1;34m'a-size-base s-underline-text'\u001b[0m\u001b[1;33m}\u001b[0m\u001b[1;33m)\u001b[0m\u001b[1;33m.\u001b[0m\u001b[0mtext\u001b[0m\u001b[1;33m\u001b[0m\u001b[1;33m\u001b[0m\u001b[0m\n\u001b[0;32m     17\u001b[0m \u001b[1;33m\u001b[0m\u001b[0m\n",
      "\u001b[1;31mAttributeError\u001b[0m: 'NoneType' object has no attribute 'text'"
     ]
    }
   ],
   "source": [
    "records = []\n",
    "results = soup.find_all ('div', {'data-component-type': 's-search-result'})\n",
    "\n",
    "for item in results:\n",
    "    records.append(extract_record(item))"
   ]
  },
  {
   "cell_type": "markdown",
   "id": "ac959e75",
   "metadata": {},
   "source": [
    "## Handling Errors"
   ]
  },
  {
   "cell_type": "markdown",
   "id": "f3a4bde0",
   "metadata": {},
   "source": [
    "Some items may not have all of the item's details which will usually cause an error. Creating a function to ignore those errors and provide the details anyway."
   ]
  },
  {
   "cell_type": "code",
   "execution_count": 112,
   "id": "85a2dd4f",
   "metadata": {},
   "outputs": [],
   "source": [
    "def extract_record(item):\n",
    "    \"\"\"Extract and return data from a single record\"\"\"\n",
    "    \n",
    "    #description and url\n",
    "    atag = item.h2.a\n",
    "    description = atag.text.strip()\n",
    "    url = 'https://www.amazon.com' + atag.get('href')\n",
    "    \n",
    "    try:\n",
    "        # Price\n",
    "        price_parent = item.find('span', 'a-price')\n",
    "        price = price_parent.find('span', 'a-offscreen').text\n",
    "    except AttributeError:\n",
    "        return\n",
    "    \n",
    "    try:\n",
    "    # Rating and Review count\n",
    "        rating = item.i.text\n",
    "        review_count = item.find('span', {'class': 'a-size-base s-underline-text'}).text\n",
    "    except AttributeError:\n",
    "        rating = ''\n",
    "        review_count = ''\n",
    "        \n",
    "    result = (description, price, rating, review_count, url)\n",
    "    \n",
    "    return result"
   ]
  },
  {
   "cell_type": "code",
   "execution_count": 113,
   "id": "869ab575",
   "metadata": {},
   "outputs": [],
   "source": [
    "records = []\n",
    "results = soup.find_all ('div', {'data-component-type': 's-search-result'})\n",
    "\n",
    "for item in results:\n",
    "    record = extract_record(item)\n",
    "    if record:\n",
    "        records.append(record)"
   ]
  },
  {
   "cell_type": "markdown",
   "id": "591d0521",
   "metadata": {},
   "source": [
    "Here we can see the data of the first item on the page being extracted"
   ]
  },
  {
   "cell_type": "code",
   "execution_count": 114,
   "id": "cc56dd54",
   "metadata": {},
   "outputs": [
    {
     "data": {
      "text/plain": [
       "('HP Omen 16 Premium Gaming Laptop I 16.1” Full HD IPS 144Hz 7ms I 11th Gen Intel 8-Core i7-11800H I 64GB DDR4 1TB SSD I Geforce RTX 3060 6GB I Thunderbolt Backlit WiFi6E Win11 + 32GB MicroSD Card',\n",
       " '$1,999.00',\n",
       " '4.3 out of 5 stars',\n",
       " '3',\n",
       " 'https://www.amazon.com/gp/slredirect/picassoRedirect.html/ref=pa_sp_atf_aps_sr_pg1_1?ie=UTF8&adId=A09647243963WPCBSGBFJ&url=%2FHP-Omen-Premium-i7-11800H-Thunderbolt%2Fdp%2FB09N8SZWJJ%2Fref%3Dsr_1_1_sspa%3Fkeywords%3Dgaming%2Blaptop%26qid%3D1645150997%26sr%3D8-1-spons%26psc%3D1&qualifier=1645150997&id=8460303053454000&widgetName=sp_atf')"
      ]
     },
     "execution_count": 114,
     "metadata": {},
     "output_type": "execute_result"
    }
   ],
   "source": [
    "\n",
    "records[0]"
   ]
  },
  {
   "cell_type": "markdown",
   "id": "e59d227d",
   "metadata": {},
   "source": [
    "Price listed for every item on the first page."
   ]
  },
  {
   "cell_type": "code",
   "execution_count": 99,
   "id": "9cfa08dc",
   "metadata": {},
   "outputs": [
    {
     "name": "stdout",
     "output_type": "stream",
     "text": [
      "$1,999.00\n",
      "$1,269.00\n",
      "$789.89\n",
      "$999.99\n",
      "$1,099.00\n",
      "$1,489.00\n",
      "$1,399.00\n",
      "$1,279.99\n",
      "$899.99\n",
      "$3,699.00\n",
      "$899.99\n",
      "$929.00\n",
      "$1,799.99\n",
      "$1,949.99\n",
      "$688.00\n",
      "$1,519.99\n",
      "$849.00\n",
      "$1,449.00\n",
      "$739.99\n",
      "$979.99\n",
      "$1,265.00\n",
      "$979.99\n"
     ]
    }
   ],
   "source": [
    "for row in records:\n",
    "    print(row[1])"
   ]
  },
  {
   "cell_type": "markdown",
   "id": "6845b6bd",
   "metadata": {},
   "source": [
    "## Grabbing next page"
   ]
  },
  {
   "cell_type": "code",
   "execution_count": 93,
   "id": "32850fef",
   "metadata": {},
   "outputs": [],
   "source": [
    "def get_url(search_text):\n",
    "    \"\"\"Generate a url from search term\"\"\"\n",
    "    template = 'https://www.amazon.com/s?k={}&ref=nb_sb_noss_1'\n",
    "    search_term = search_text.replace(' ', '+')\n",
    "    \n",
    "    # add term query to url\n",
    "    url = template.format(search_term)\n",
    "    \n",
    "    # add page query placeholder\n",
    "    url += '&page={}'\n",
    "    \n",
    "    return url"
   ]
  },
  {
   "cell_type": "markdown",
   "id": "5a02f7dc",
   "metadata": {},
   "source": [
    "## Putting it all together"
   ]
  },
  {
   "cell_type": "markdown",
   "id": "c36ef648",
   "metadata": {},
   "source": [
    "Gathering all of the sections and condensing it into one block of code."
   ]
  },
  {
   "cell_type": "code",
   "execution_count": null,
   "id": "6a913314",
   "metadata": {},
   "outputs": [],
   "source": [
    "import csv\n",
    "from bs4 import BeautifulSoup\n",
    "from selenium import webdriver\n",
    "\n",
    "def get_url(search_text):\n",
    "    \"\"\"Generate a url from search term\"\"\"\n",
    "    template = 'https://www.amazon.com/s?k={}&ref=nb_sb_noss_1'\n",
    "    search_term = search_text.replace(' ', '+')\n",
    "    \n",
    "    # add term query to url\n",
    "    url = template.format(search_term)\n",
    "    \n",
    "    # add page query placeholder\n",
    "    url += '&page={}'\n",
    "    \n",
    "    return url\n",
    "\n",
    "def extract_record(item):\n",
    "    \"\"\"Extract and return data from a single record\"\"\"\n",
    "    \n",
    "    #description and url\n",
    "    atag = item.h2.a\n",
    "    description = atag.text.strip()\n",
    "    url = 'https://www.amazon.com' + atag.get('href')\n",
    "    \n",
    "    try:\n",
    "        # Price\n",
    "        price_parent = item.find('span', 'a-price')\n",
    "        price = price_parent.find('span', 'a-offscreen').text\n",
    "    except AttributeError:\n",
    "        return\n",
    "    \n",
    "    try:\n",
    "    # Rating and Review count\n",
    "        rating = item.i.text\n",
    "        review_count = item.find('span', {'class': 'a-size-base s-underline-text'}).text\n",
    "    except AttributeError:\n",
    "        rating = ''\n",
    "        review_count = ''\n",
    "        \n",
    "    result = (description, price, rating, review_count, url)\n",
    "    \n",
    "    return result\n",
    "\n",
    "def main(search_term):\n",
    "    driver = webdriver.Chrome()\n",
    "    \n",
    "    records = []\n",
    "    url = get_url(search_term)\n",
    "    \n",
    "    for page in range(1):\n",
    "        driver.get(url.format(page))\n",
    "        soup = BeautifulSoup(driver.page_source, 'html.parser')\n",
    "        results = soup.find_all ('div', {'data-component-type': 's-search-result'})\n",
    "        \n",
    "        for item in results:\n",
    "            record = extract_record(item)\n",
    "            if record:\n",
    "                records.append(record)\n",
    "        driver.close()\n",
    "        \n",
    "        # save data\n",
    "        \n",
    "    with open('GamingLaptops.csv', 'w', newline='', encoding='utf-8') as f:\n",
    "        writer = csv.writer(f)\n",
    "        writer.writerow(['Description', 'Price', 'Rating', 'ReviewCount', 'Url'])\n",
    "        writer.writerows(records)"
   ]
  },
  {
   "cell_type": "code",
   "execution_count": 129,
   "id": "3c54a429",
   "metadata": {},
   "outputs": [],
   "source": [
    "main('gaming laptop')"
   ]
  },
  {
   "cell_type": "markdown",
   "id": "b02ddd73",
   "metadata": {},
   "source": [
    "## Results"
   ]
  },
  {
   "cell_type": "markdown",
   "id": "3de3c1bb",
   "metadata": {},
   "source": [
    "The data was converted to a CSV file which we can use in Excel and perform further analysis. Here is a view of the data."
   ]
  },
  {
   "cell_type": "code",
   "execution_count": 133,
   "id": "6d806fbc",
   "metadata": {},
   "outputs": [],
   "source": [
    "df = pd.read_csv('GamingLaptops.csv')"
   ]
  },
  {
   "cell_type": "code",
   "execution_count": 134,
   "id": "c8ef5c14",
   "metadata": {},
   "outputs": [
    {
     "data": {
      "text/html": [
       "<div>\n",
       "<style scoped>\n",
       "    .dataframe tbody tr th:only-of-type {\n",
       "        vertical-align: middle;\n",
       "    }\n",
       "\n",
       "    .dataframe tbody tr th {\n",
       "        vertical-align: top;\n",
       "    }\n",
       "\n",
       "    .dataframe thead th {\n",
       "        text-align: right;\n",
       "    }\n",
       "</style>\n",
       "<table border=\"1\" class=\"dataframe\">\n",
       "  <thead>\n",
       "    <tr style=\"text-align: right;\">\n",
       "      <th></th>\n",
       "      <th>Description</th>\n",
       "      <th>Price</th>\n",
       "      <th>Rating</th>\n",
       "      <th>ReviewCount</th>\n",
       "      <th>Url</th>\n",
       "    </tr>\n",
       "  </thead>\n",
       "  <tbody>\n",
       "    <tr>\n",
       "      <th>0</th>\n",
       "      <td>Acer Nitro 5 AN515-55-53E5 Gaming Laptop | Int...</td>\n",
       "      <td>$789.89</td>\n",
       "      <td>4.6 out of 5 stars</td>\n",
       "      <td>6,497</td>\n",
       "      <td>https://www.amazon.com/gp/slredirect/picassoRe...</td>\n",
       "    </tr>\n",
       "    <tr>\n",
       "      <th>1</th>\n",
       "      <td>Acer Predator Helios 300 PH315-54-760S Gaming ...</td>\n",
       "      <td>$1,279.99</td>\n",
       "      <td>4.6 out of 5 stars</td>\n",
       "      <td>4,216</td>\n",
       "      <td>https://www.amazon.com/gp/slredirect/picassoRe...</td>\n",
       "    </tr>\n",
       "    <tr>\n",
       "      <th>2</th>\n",
       "      <td>Acer Nitro 5 AN515-55-53E5 Gaming Laptop | Int...</td>\n",
       "      <td>$789.89</td>\n",
       "      <td>4.6 out of 5 stars</td>\n",
       "      <td>6,497</td>\n",
       "      <td>https://www.amazon.com/Acer-AN515-55-53E5-i5-1...</td>\n",
       "    </tr>\n",
       "    <tr>\n",
       "      <th>3</th>\n",
       "      <td>ASUS ROG Strix G15 (2021) Gaming Laptop, 15.6”...</td>\n",
       "      <td>$999.99</td>\n",
       "      <td>4.6 out of 5 stars</td>\n",
       "      <td>69</td>\n",
       "      <td>https://www.amazon.com/ASUS-Display-GeForce-Ke...</td>\n",
       "    </tr>\n",
       "    <tr>\n",
       "      <th>4</th>\n",
       "      <td>Newest MSI Crosshair 15.6\" 144Hz FHD IPS Gamin...</td>\n",
       "      <td>$1,099.00</td>\n",
       "      <td>NaN</td>\n",
       "      <td>NaN</td>\n",
       "      <td>https://www.amazon.com/MSI-Crosshair-i7-11800H...</td>\n",
       "    </tr>\n",
       "    <tr>\n",
       "      <th>5</th>\n",
       "      <td>2021 ASUS ROG Strix G17 17.3\" FHD 144Hz Gaming...</td>\n",
       "      <td>$1,489.00</td>\n",
       "      <td>4.7 out of 5 stars</td>\n",
       "      <td>38</td>\n",
       "      <td>https://www.amazon.com/ASUS-ROG-Strix-G17-Comp...</td>\n",
       "    </tr>\n",
       "    <tr>\n",
       "      <th>6</th>\n",
       "      <td>MSI GS66 Stealth 15.6\" 240Hz 3ms Ultra Thin an...</td>\n",
       "      <td>$1,399.00</td>\n",
       "      <td>4.3 out of 5 stars</td>\n",
       "      <td>17</td>\n",
       "      <td>https://www.amazon.com/MSI-GS66-Stealth-i7-107...</td>\n",
       "    </tr>\n",
       "    <tr>\n",
       "      <th>7</th>\n",
       "      <td>Acer Predator Helios 300 PH315-54-760S Gaming ...</td>\n",
       "      <td>$1,279.99</td>\n",
       "      <td>4.6 out of 5 stars</td>\n",
       "      <td>4,216</td>\n",
       "      <td>https://www.amazon.com/Acer-Predator-PH315-54-...</td>\n",
       "    </tr>\n",
       "    <tr>\n",
       "      <th>8</th>\n",
       "      <td>Victus 16 Gaming Laptop, NVIDIA GeForce RTX 30...</td>\n",
       "      <td>$899.99</td>\n",
       "      <td>4.4 out of 5 stars</td>\n",
       "      <td>3</td>\n",
       "      <td>https://www.amazon.com/GeForce-i5-11260H-Displ...</td>\n",
       "    </tr>\n",
       "    <tr>\n",
       "      <th>9</th>\n",
       "      <td>MSI Crosshair17 17.3\" 144Hz FHD Gaming Laptop ...</td>\n",
       "      <td>$1,299.00</td>\n",
       "      <td>4.4 out of 5 stars</td>\n",
       "      <td>14</td>\n",
       "      <td>https://www.amazon.com/MSI-Crosshair17-i7-1180...</td>\n",
       "    </tr>\n",
       "    <tr>\n",
       "      <th>10</th>\n",
       "      <td>Predator Helio by A-CER Gaming Laptop, 15.6\" F...</td>\n",
       "      <td>$1,519.99</td>\n",
       "      <td>NaN</td>\n",
       "      <td>NaN</td>\n",
       "      <td>https://www.amazon.com/gp/slredirect/picassoRe...</td>\n",
       "    </tr>\n",
       "    <tr>\n",
       "      <th>11</th>\n",
       "      <td>ASUS ROG Zephyrus S17 (2021) Gaming Laptop, 17...</td>\n",
       "      <td>$3,699.00</td>\n",
       "      <td>3.9 out of 5 stars</td>\n",
       "      <td>15</td>\n",
       "      <td>https://www.amazon.com/ASUS-Zephyrus-i9-11900H...</td>\n",
       "    </tr>\n",
       "    <tr>\n",
       "      <th>12</th>\n",
       "      <td>2021 HP Pavilion 15.6\" FHD Gaming Laptop Compu...</td>\n",
       "      <td>$929.00</td>\n",
       "      <td>4.6 out of 5 stars</td>\n",
       "      <td>47</td>\n",
       "      <td>https://www.amazon.com/HP-Pavilion-Computer-i5...</td>\n",
       "    </tr>\n",
       "    <tr>\n",
       "      <th>13</th>\n",
       "      <td>Alienware m15 R4 RTX 3070 Gaming Laptop Full H...</td>\n",
       "      <td>$1,799.99</td>\n",
       "      <td>4.5 out of 5 stars</td>\n",
       "      <td>407</td>\n",
       "      <td>https://www.amazon.com/Alienware-3070-Gaming-L...</td>\n",
       "    </tr>\n",
       "    <tr>\n",
       "      <th>14</th>\n",
       "      <td>ASUS ROG Strix G17 (2021) Gaming Laptop, 17.3”...</td>\n",
       "      <td>$1,949.99</td>\n",
       "      <td>4.4 out of 5 stars</td>\n",
       "      <td>209</td>\n",
       "      <td>https://www.amazon.com/ASUS-Display-Processor-...</td>\n",
       "    </tr>\n",
       "    <tr>\n",
       "      <th>15</th>\n",
       "      <td>Mytrix Nitro 5 by_Acer Gaming Laptop, 15.6\" FH...</td>\n",
       "      <td>$979.99</td>\n",
       "      <td>4.4 out of 5 stars</td>\n",
       "      <td>68</td>\n",
       "      <td>https://www.amazon.com/gp/slredirect/picassoRe...</td>\n",
       "    </tr>\n",
       "    <tr>\n",
       "      <th>16</th>\n",
       "      <td>MSI GF63 Thin 9SC-068 15.6\" Gaming Laptop, Thi...</td>\n",
       "      <td>$694.00</td>\n",
       "      <td>4.5 out of 5 stars</td>\n",
       "      <td>338</td>\n",
       "      <td>https://www.amazon.com/MSI-GF63-9SC-068-i5-930...</td>\n",
       "    </tr>\n",
       "    <tr>\n",
       "      <th>17</th>\n",
       "      <td>Newest MSI GF63 Thin 15.6\" FHD Gaming Laptop, ...</td>\n",
       "      <td>$849.00</td>\n",
       "      <td>4.2 out of 5 stars</td>\n",
       "      <td>8</td>\n",
       "      <td>https://www.amazon.com/Newest-MSI-i5-10300H-i7...</td>\n",
       "    </tr>\n",
       "    <tr>\n",
       "      <th>18</th>\n",
       "      <td>Sager NP7859PQ Gaming Laptop, 15.6 Inch Thin B...</td>\n",
       "      <td>$1,449.00</td>\n",
       "      <td>4.8 out of 5 stars</td>\n",
       "      <td>40</td>\n",
       "      <td>https://www.amazon.com/Sager-NP7859PQ-Gaming-i...</td>\n",
       "    </tr>\n",
       "    <tr>\n",
       "      <th>19</th>\n",
       "      <td>Lenovo IdeaPad 3 Gaming Laptop, 15.6\" FHD Disp...</td>\n",
       "      <td>$739.99</td>\n",
       "      <td>4.6 out of 5 stars</td>\n",
       "      <td>108</td>\n",
       "      <td>https://www.amazon.com/Lenovo-IdeaPad-Display-...</td>\n",
       "    </tr>\n",
       "    <tr>\n",
       "      <th>20</th>\n",
       "      <td>ASUS TUF Dash 15 (2021) Ultra Slim Gaming Lapt...</td>\n",
       "      <td>$949.99</td>\n",
       "      <td>4.5 out of 5 stars</td>\n",
       "      <td>690</td>\n",
       "      <td>https://www.amazon.com/gp/slredirect/picassoRe...</td>\n",
       "    </tr>\n",
       "    <tr>\n",
       "      <th>21</th>\n",
       "      <td>MSI Alpha 17 AMD Advantage Edition Premium Gam...</td>\n",
       "      <td>$1,389.00</td>\n",
       "      <td>4.6 out of 5 stars</td>\n",
       "      <td>3</td>\n",
       "      <td>https://www.amazon.com/gp/slredirect/picassoRe...</td>\n",
       "    </tr>\n",
       "  </tbody>\n",
       "</table>\n",
       "</div>"
      ],
      "text/plain": [
       "                                          Description      Price  \\\n",
       "0   Acer Nitro 5 AN515-55-53E5 Gaming Laptop | Int...    $789.89   \n",
       "1   Acer Predator Helios 300 PH315-54-760S Gaming ...  $1,279.99   \n",
       "2   Acer Nitro 5 AN515-55-53E5 Gaming Laptop | Int...    $789.89   \n",
       "3   ASUS ROG Strix G15 (2021) Gaming Laptop, 15.6”...    $999.99   \n",
       "4   Newest MSI Crosshair 15.6\" 144Hz FHD IPS Gamin...  $1,099.00   \n",
       "5   2021 ASUS ROG Strix G17 17.3\" FHD 144Hz Gaming...  $1,489.00   \n",
       "6   MSI GS66 Stealth 15.6\" 240Hz 3ms Ultra Thin an...  $1,399.00   \n",
       "7   Acer Predator Helios 300 PH315-54-760S Gaming ...  $1,279.99   \n",
       "8   Victus 16 Gaming Laptop, NVIDIA GeForce RTX 30...    $899.99   \n",
       "9   MSI Crosshair17 17.3\" 144Hz FHD Gaming Laptop ...  $1,299.00   \n",
       "10  Predator Helio by A-CER Gaming Laptop, 15.6\" F...  $1,519.99   \n",
       "11  ASUS ROG Zephyrus S17 (2021) Gaming Laptop, 17...  $3,699.00   \n",
       "12  2021 HP Pavilion 15.6\" FHD Gaming Laptop Compu...    $929.00   \n",
       "13  Alienware m15 R4 RTX 3070 Gaming Laptop Full H...  $1,799.99   \n",
       "14  ASUS ROG Strix G17 (2021) Gaming Laptop, 17.3”...  $1,949.99   \n",
       "15  Mytrix Nitro 5 by_Acer Gaming Laptop, 15.6\" FH...    $979.99   \n",
       "16  MSI GF63 Thin 9SC-068 15.6\" Gaming Laptop, Thi...    $694.00   \n",
       "17  Newest MSI GF63 Thin 15.6\" FHD Gaming Laptop, ...    $849.00   \n",
       "18  Sager NP7859PQ Gaming Laptop, 15.6 Inch Thin B...  $1,449.00   \n",
       "19  Lenovo IdeaPad 3 Gaming Laptop, 15.6\" FHD Disp...    $739.99   \n",
       "20  ASUS TUF Dash 15 (2021) Ultra Slim Gaming Lapt...    $949.99   \n",
       "21  MSI Alpha 17 AMD Advantage Edition Premium Gam...  $1,389.00   \n",
       "\n",
       "                Rating ReviewCount  \\\n",
       "0   4.6 out of 5 stars       6,497   \n",
       "1   4.6 out of 5 stars       4,216   \n",
       "2   4.6 out of 5 stars       6,497   \n",
       "3   4.6 out of 5 stars          69   \n",
       "4                  NaN         NaN   \n",
       "5   4.7 out of 5 stars          38   \n",
       "6   4.3 out of 5 stars          17   \n",
       "7   4.6 out of 5 stars       4,216   \n",
       "8   4.4 out of 5 stars           3   \n",
       "9   4.4 out of 5 stars          14   \n",
       "10                 NaN         NaN   \n",
       "11  3.9 out of 5 stars          15   \n",
       "12  4.6 out of 5 stars          47   \n",
       "13  4.5 out of 5 stars         407   \n",
       "14  4.4 out of 5 stars         209   \n",
       "15  4.4 out of 5 stars          68   \n",
       "16  4.5 out of 5 stars         338   \n",
       "17  4.2 out of 5 stars           8   \n",
       "18  4.8 out of 5 stars          40   \n",
       "19  4.6 out of 5 stars         108   \n",
       "20  4.5 out of 5 stars         690   \n",
       "21  4.6 out of 5 stars           3   \n",
       "\n",
       "                                                  Url  \n",
       "0   https://www.amazon.com/gp/slredirect/picassoRe...  \n",
       "1   https://www.amazon.com/gp/slredirect/picassoRe...  \n",
       "2   https://www.amazon.com/Acer-AN515-55-53E5-i5-1...  \n",
       "3   https://www.amazon.com/ASUS-Display-GeForce-Ke...  \n",
       "4   https://www.amazon.com/MSI-Crosshair-i7-11800H...  \n",
       "5   https://www.amazon.com/ASUS-ROG-Strix-G17-Comp...  \n",
       "6   https://www.amazon.com/MSI-GS66-Stealth-i7-107...  \n",
       "7   https://www.amazon.com/Acer-Predator-PH315-54-...  \n",
       "8   https://www.amazon.com/GeForce-i5-11260H-Displ...  \n",
       "9   https://www.amazon.com/MSI-Crosshair17-i7-1180...  \n",
       "10  https://www.amazon.com/gp/slredirect/picassoRe...  \n",
       "11  https://www.amazon.com/ASUS-Zephyrus-i9-11900H...  \n",
       "12  https://www.amazon.com/HP-Pavilion-Computer-i5...  \n",
       "13  https://www.amazon.com/Alienware-3070-Gaming-L...  \n",
       "14  https://www.amazon.com/ASUS-Display-Processor-...  \n",
       "15  https://www.amazon.com/gp/slredirect/picassoRe...  \n",
       "16  https://www.amazon.com/MSI-GF63-9SC-068-i5-930...  \n",
       "17  https://www.amazon.com/Newest-MSI-i5-10300H-i7...  \n",
       "18  https://www.amazon.com/Sager-NP7859PQ-Gaming-i...  \n",
       "19  https://www.amazon.com/Lenovo-IdeaPad-Display-...  \n",
       "20  https://www.amazon.com/gp/slredirect/picassoRe...  \n",
       "21  https://www.amazon.com/gp/slredirect/picassoRe...  "
      ]
     },
     "execution_count": 134,
     "metadata": {},
     "output_type": "execute_result"
    }
   ],
   "source": [
    "df"
   ]
  }
 ],
 "metadata": {
  "kernelspec": {
   "display_name": "Python 3 (ipykernel)",
   "language": "python",
   "name": "python3"
  },
  "language_info": {
   "codemirror_mode": {
    "name": "ipython",
    "version": 3
   },
   "file_extension": ".py",
   "mimetype": "text/x-python",
   "name": "python",
   "nbconvert_exporter": "python",
   "pygments_lexer": "ipython3",
   "version": "3.9.7"
  }
 },
 "nbformat": 4,
 "nbformat_minor": 5
}
